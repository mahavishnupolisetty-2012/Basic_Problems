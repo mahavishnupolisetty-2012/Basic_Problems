{
  "nbformat": 4,
  "nbformat_minor": 0,
  "metadata": {
    "colab": {
      "provenance": [],
      "authorship_tag": "ABX9TyP3InbtpmIO61Zpd7mVRcFT",
      "include_colab_link": true
    },
    "kernelspec": {
      "name": "python3",
      "display_name": "Python 3"
    },
    "language_info": {
      "name": "python"
    }
  },
  "cells": [
    {
      "cell_type": "markdown",
      "metadata": {
        "id": "view-in-github",
        "colab_type": "text"
      },
      "source": [
        "<a href=\"https://colab.research.google.com/github/mahavishnupolisetty-2012/Basic_Problems/blob/main/count_of_positve_and_negative_numbers.ipynb\" target=\"_parent\"><img src=\"https://colab.research.google.com/assets/colab-badge.svg\" alt=\"Open In Colab\"/></a>"
      ]
    },
    {
      "cell_type": "markdown",
      "source": [
        "* identify the positive and negative numbers.\n",
        "* count the identified positive and negative numbers."
      ],
      "metadata": {
        "id": "IJfJsELsff8F"
      }
    },
    {
      "cell_type": "code",
      "source": [
        "my_num = [1,100,-2,-25,369,56,25,-9,-61,60,61,-98]\n",
        "a = [i for i in my_num if i>0]\n",
        "print(\"count of the intial list is\",len(my_num))\n",
        "print(\"positive numbers in the list are\",a)\n",
        "print(\"count of the positive numbers in the list\",len(a))"
      ],
      "metadata": {
        "colab": {
          "base_uri": "https://localhost:8080/"
        },
        "id": "493EGUsxdLoj",
        "outputId": "8a82c5de-322d-4dac-e906-2a798d7307e9"
      },
      "execution_count": 20,
      "outputs": [
        {
          "output_type": "stream",
          "name": "stdout",
          "text": [
            "count of the intial list is 12\n",
            "positive numbers in the list are [1, 100, 369, 56, 25, 60, 61]\n",
            "count of the positive numbers in the list 7\n"
          ]
        }
      ]
    },
    {
      "cell_type": "code",
      "source": [
        "b = [i for i in my_num if i<0]\n",
        "print(\"positive numbers in the list are\",b)\n",
        "print(\"count of the positive numbers in the list\",len(b))"
      ],
      "metadata": {
        "colab": {
          "base_uri": "https://localhost:8080/"
        },
        "id": "mvk754juf0e4",
        "outputId": "be543112-7de9-48d4-b094-6a74a389c6ee"
      },
      "execution_count": 19,
      "outputs": [
        {
          "output_type": "stream",
          "name": "stdout",
          "text": [
            "positive numbers in the list are [-2, -25, -9, -61, -98]\n",
            "count of the positive numbers in the list 5\n"
          ]
        }
      ]
    },
    {
      "cell_type": "code",
      "source": [],
      "metadata": {
        "id": "GwdGV8NiipMU"
      },
      "execution_count": null,
      "outputs": []
    }
  ]
}