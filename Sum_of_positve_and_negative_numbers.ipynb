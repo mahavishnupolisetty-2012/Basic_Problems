{
  "nbformat": 4,
  "nbformat_minor": 0,
  "metadata": {
    "colab": {
      "provenance": [],
      "authorship_tag": "ABX9TyMRQ1anrC0cfcEuzpAV2SEM",
      "include_colab_link": true
    },
    "kernelspec": {
      "name": "python3",
      "display_name": "Python 3"
    },
    "language_info": {
      "name": "python"
    }
  },
  "cells": [
    {
      "cell_type": "markdown",
      "metadata": {
        "id": "view-in-github",
        "colab_type": "text"
      },
      "source": [
        "<a href=\"https://colab.research.google.com/github/mahavishnupolisetty-2012/Basic_Problems/blob/main/Sum_of_positve_and_negative_numbers.ipynb\" target=\"_parent\"><img src=\"https://colab.research.google.com/assets/colab-badge.svg\" alt=\"Open In Colab\"/></a>"
      ]
    },
    {
      "cell_type": "markdown",
      "source": [
        "* Sum of the positive and negative numbers in the list\n",
        "* sum of negative, positive even and positive odd\n"
      ],
      "metadata": {
        "id": "CKqWho5AbrwZ"
      }
    },
    {
      "cell_type": "code",
      "source": [
        "my_num = [1,100,-2,-25,369,56,25,-9,-61,60,61,-98]\n",
        "a = [i for i in my_num if i>0 and i%2==0]\n",
        "b = [i for i in my_num if i>0 and i%2!=0]\n",
        "c = [i for i in my_num if i<0]\n",
        "print(\"sum of even positive numbers is\",sum(a))\n",
        "print(\"sum of odd positive numbers is\",sum(b))\n",
        "print(\"sum of negative numbers is\",sum(c))"
      ],
      "metadata": {
        "colab": {
          "base_uri": "https://localhost:8080/"
        },
        "id": "djmsJOitb-bp",
        "outputId": "a21bba7b-b7e4-49cf-d76d-9031b4d5bf41"
      },
      "execution_count": 6,
      "outputs": [
        {
          "output_type": "stream",
          "name": "stdout",
          "text": [
            "sum of even positive numbers is 216\n",
            "sum of odd positive numbers is 456\n",
            "sum of negative numbers is -195\n"
          ]
        }
      ]
    },
    {
      "cell_type": "code",
      "source": [],
      "metadata": {
        "id": "493EGUsxdLoj"
      },
      "execution_count": null,
      "outputs": []
    }
  ]
}