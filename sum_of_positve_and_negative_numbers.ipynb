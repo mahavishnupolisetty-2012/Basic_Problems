{
  "nbformat": 4,
  "nbformat_minor": 0,
  "metadata": {
    "colab": {
      "provenance": [],
      "authorship_tag": "ABX9TyOw8imoE6y8zm8gVc7zuEPI",
      "include_colab_link": true
    },
    "kernelspec": {
      "name": "python3",
      "display_name": "Python 3"
    },
    "language_info": {
      "name": "python"
    }
  },
  "cells": [
    {
      "cell_type": "markdown",
      "metadata": {
        "id": "view-in-github",
        "colab_type": "text"
      },
      "source": [
        "<a href=\"https://colab.research.google.com/github/mahavishnupolisetty-2012/Basic_Problems/blob/main/sum_of_positve_and_negative_numbers.ipynb\" target=\"_parent\"><img src=\"https://colab.research.google.com/assets/colab-badge.svg\" alt=\"Open In Colab\"/></a>"
      ]
    },
    {
      "cell_type": "markdown",
      "source": [
        "* identify the positive and negative numbers.\n",
        "* sum of the identified positive and negative numbers."
      ],
      "metadata": {
        "id": "IJfJsELsff8F"
      }
    },
    {
      "cell_type": "code",
      "source": [
        "my_num = [1,100,-2,-25,369,56,25,-9,-61,60,61,-98]\n",
        "a = [i for i in my_num if i>0 and i%2==0]\n",
        "b = [i for i in my_num if i>0 and i%2!=0]\n",
        "c = [i for i in my_num if i<0]\n",
        "print(\"sum of the positive even numbers in the list is\",sum(a))\n",
        "print(\"sum of the positive odd numbers in the list is\",sum(b))\n",
        "print(\"sum of the negative numbers in the list is\",sum(c))"
      ],
      "metadata": {
        "colab": {
          "base_uri": "https://localhost:8080/"
        },
        "id": "493EGUsxdLoj",
        "outputId": "f98064aa-f1a4-44d2-cab2-ecc87ca25096"
      },
      "execution_count": 27,
      "outputs": [
        {
          "output_type": "stream",
          "name": "stdout",
          "text": [
            "sum of the positive even numbers in the list is 216\n",
            "sum of the positive odd numbers in the list is 456\n",
            "sum of the negative numbers in the list is -195\n"
          ]
        }
      ]
    },
    {
      "cell_type": "code",
      "source": [],
      "metadata": {
        "id": "GwdGV8NiipMU"
      },
      "execution_count": null,
      "outputs": []
    }
  ]
}