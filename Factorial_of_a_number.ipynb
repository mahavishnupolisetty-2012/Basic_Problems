{
 "cells": [
  {
   "cell_type": "code",
   "execution_count": 1,
   "id": "0a51d1a0",
   "metadata": {},
   "outputs": [
    {
     "name": "stdout",
     "output_type": "stream",
     "text": [
      "enter the number: 3\n",
      "factorial of the entered number is: \n",
      "6\n"
     ]
    }
   ],
   "source": [
    "n = int(input(\"enter the number: \"))\n",
    "fact=1\n",
    "while(n>0):\n",
    "    fact=fact*n\n",
    "    n=n-1\n",
    "print(\"factorial of the entered number is: \")\n",
    "print(fact)"
   ]
  },
  {
   
}
